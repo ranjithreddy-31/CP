{
  "nbformat": 4,
  "nbformat_minor": 0,
  "metadata": {
    "colab": {
      "provenance": []
    },
    "kernelspec": {
      "name": "python3",
      "display_name": "Python 3"
    },
    "language_info": {
      "name": "python"
    }
  },
  "cells": [
    {
      "cell_type": "code",
      "execution_count": 4,
      "metadata": {
        "colab": {
          "base_uri": "https://localhost:8080/"
        },
        "id": "Aetw3hnV3JFd",
        "outputId": "28fdb5af-eef3-4960-9862-5a86fff4cd50"
      },
      "outputs": [
        {
          "output_type": "stream",
          "name": "stdout",
          "text": [
            "[1, 2, 3, 4, 5]\n"
          ]
        }
      ],
      "source": [
        "'''\n",
        "Algorithm: Selection Sort\n",
        "Time Complexity: O(n^2)\n",
        "Space Complexity: O(1)\n",
        "'''\n",
        "def SelectionSort(arr):\n",
        "  n = len(arr)\n",
        "  for i in range(n):\n",
        "    ind = i\n",
        "    for j in range(i+1,n):\n",
        "      if arr[j]<arr[ind]:\n",
        "        ind = j\n",
        "    arr[ind],arr[i] = arr[i],arr[ind]\n",
        "  return arr\n",
        "arr = [3,4,2,1,5]\n",
        "print(SelectionSort(arr))\n"
      ]
    },
    {
      "cell_type": "code",
      "source": [
        "'''\n",
        "Algorithm: Bubble Sort\n",
        "Time Complexity: O(n^2)\n",
        "Space Complexity: O(1)\n",
        "'''\n",
        "def BubbleSort(arr):\n",
        "  n = len(arr)\n",
        "  for i in range(n):\n",
        "\n",
        "    for j in range(n-i-1):\n",
        "      if arr[j]>arr[j+1]:\n",
        "        arr[j],arr[j+1] = arr[j+1],arr[j]\n",
        "  return arr\n",
        "arr = [3,4,2,1,5]\n",
        "print(BubbleSort(arr))\n"
      ],
      "metadata": {
        "colab": {
          "base_uri": "https://localhost:8080/"
        },
        "id": "E0Chikok3Muy",
        "outputId": "ec375bf4-c043-4126-fbc0-01a1a3e2102d"
      },
      "execution_count": 6,
      "outputs": [
        {
          "output_type": "stream",
          "name": "stdout",
          "text": [
            "[1, 2, 3, 4, 5]\n"
          ]
        }
      ]
    },
    {
      "cell_type": "code",
      "source": [
        "'''\n",
        "Algorithm: Insertion Sort\n",
        "Time Complexity: O(n^2)\n",
        "Space Complexity: O(1)\n",
        "'''\n",
        "def InsertionSort(arr):\n",
        "  n = len(arr)\n",
        "  for i in range(1,n):\n",
        "    key = arr[i]\n",
        "    j = i-1\n",
        "    while j>=0 and key<arr[j]:\n",
        "      arr[j+1] = arr[j]\n",
        "      j-=1\n",
        "    arr[j+1] = key\n",
        "  return arr\n",
        "arr = [3,4,2,1,5]\n",
        "print(InsertionSort(arr))\n"
      ],
      "metadata": {
        "colab": {
          "base_uri": "https://localhost:8080/"
        },
        "id": "SMiOONGj3znc",
        "outputId": "4e77ca8b-8b31-42f8-804a-bf52591ac4e0"
      },
      "execution_count": 7,
      "outputs": [
        {
          "output_type": "stream",
          "name": "stdout",
          "text": [
            "[1, 2, 3, 4, 5]\n"
          ]
        }
      ]
    },
    {
      "cell_type": "code",
      "source": [
        "'''\n",
        "Algorithm: Merge Sort\n",
        "Time Complexity: O(nlogn)\n",
        "Space Complexity: O(n)\n",
        "'''\n",
        "def merge(arr,low,mid,high):\n",
        "  left = arr[low:mid]\n",
        "  right = arr[mid:high]\n",
        "  i = j = 0\n",
        "  k = low\n",
        "  while i<len(left) and j<len(right):\n",
        "    if left[i]<right[j]:\n",
        "      arr[k] = left[i]\n",
        "      i+=1\n",
        "    else:\n",
        "      arr[k] = right[j]\n",
        "      j+=1\n",
        "    k+=1\n",
        "  while i<len(left):\n",
        "    arr[k] = left[i]\n",
        "    i+=1\n",
        "    k+=1\n",
        "  while j<len(right):\n",
        "    arr[k] = right[j]\n",
        "    k+=1\n",
        "    j+=1\n",
        "\n",
        "def mergesort(arr,low,high):\n",
        "  if low<high-1:\n",
        "    mid = (low+high)//2\n",
        "    mergesort(arr,low,mid)\n",
        "    mergesort(arr,mid,high)\n",
        "    merge(arr,low,mid,high)\n",
        "\n",
        "arr = [3,4,2,1,5]\n",
        "mergesort(arr,0,len(arr))\n",
        "print(arr)\n",
        "\n"
      ],
      "metadata": {
        "colab": {
          "base_uri": "https://localhost:8080/"
        },
        "id": "AzVHQZWM5lIl",
        "outputId": "73a0e29e-ee0a-4d3b-a5eb-c4dd8fc75e0f"
      },
      "execution_count": 23,
      "outputs": [
        {
          "output_type": "stream",
          "name": "stdout",
          "text": [
            "[1, 2, 3, 4, 5]\n"
          ]
        }
      ]
    },
    {
      "cell_type": "code",
      "source": [
        "'''\n",
        "Algorithm: Quick Sort\n",
        "Time Complexity: Average: O(nlogn), Worst: O(n^2)\n",
        "Space Complexity: O(n)\n",
        "'''\n",
        "def quicksort(arr):\n",
        "  if len(arr)<=1:\n",
        "    return arr\n",
        "  return quicksort([i for i in arr if i<arr[0]])+[arr[0]]+([i for i in arr if i>arr[0]])\n",
        "\n",
        "arr = [3,4,2,1,5]\n",
        "print(quicksort(arr))"
      ],
      "metadata": {
        "colab": {
          "base_uri": "https://localhost:8080/"
        },
        "id": "mv8Y5LyW6g4R",
        "outputId": "e913e1b5-4929-495c-ff85-5cc5d61e0367"
      },
      "execution_count": 25,
      "outputs": [
        {
          "output_type": "stream",
          "name": "stdout",
          "text": [
            "[1, 2, 3, 4, 5]\n"
          ]
        }
      ]
    }
  ]
}